{
  "cells": [
    {
      "cell_type": "markdown",
      "metadata": {
        "id": "view-in-github",
        "colab_type": "text"
      },
      "source": [
        "<a href=\"https://colab.research.google.com/github/suuizee/dap-2024/blob/main/les02/rep.ipynb\" target=\"_parent\"><img src=\"https://colab.research.google.com/assets/colab-badge.svg\" alt=\"Open In Colab\"/></a>"
      ]
    },
    {
      "cell_type": "markdown",
      "metadata": {
        "id": "ozZUo3XxK0S0"
      },
      "source": [
        "# Отчет лабораторной работы 2"
      ]
    },
    {
      "cell_type": "markdown",
      "metadata": {
        "id": "IQZtbikXK0S1"
      },
      "source": [
        "## Задание"
      ]
    },
    {
      "cell_type": "markdown",
      "metadata": {
        "id": "Q5bfQ3FQK0S1"
      },
      "source": [
        "Выполните следующие задания:\n",
        "\n",
        "1. Откройте в файл в Google Colab (используйте собственный форк репозитория).\n",
        "2. Решите задачи.\n",
        "3. Сохраните результат в ваш репозиторий github в директорию ./les02\n",
        "4. Создайте pull request в репозиторий https://github.com/chebotarevsa/dap-2024. Название pull request должно иметь формат \"<2>  <12002208> <Крупко М.Д>\"\n",
        "5. Сдайте работу в системе \"Пегас\", в отчет укажите ссылку на pull request"
      ]
    },
    {
      "cell_type": "markdown",
      "metadata": {
        "id": "SMngslrSK0S1"
      },
      "source": [
        "Задача №1. https://leetcode.com/problems/two-sum/"
      ]
    },
    {
      "cell_type": "code",
      "execution_count": 1,
      "metadata": {
        "id": "lp8RbPTmK0S2",
        "colab": {
          "base_uri": "https://localhost:8080/"
        },
        "outputId": "f3aab1b2-f9cd-464e-89c4-6da0de99a896"
      },
      "outputs": [
        {
          "output_type": "stream",
          "name": "stdout",
          "text": [
            "[0, 2]\n"
          ]
        }
      ],
      "source": [
        "class Solution:\n",
        "    def twoSum(self, nums, target):\n",
        "        hashmap = {}\n",
        "        for i, num in enumerate(nums):\n",
        "            complement = target - num\n",
        "            if complement in hashmap:\n",
        "                return [hashmap[complement], i]\n",
        "            hashmap[num] = i\n",
        "numsL = [2,3,7,9]\n",
        "targetL = 9\n",
        "sol = Solution()\n",
        "print (sol.twoSum(numsL, targetL))"
      ]
    },
    {
      "cell_type": "markdown",
      "metadata": {
        "id": "ywgasKPBK0S2"
      },
      "source": [
        "Задача №2. https://leetcode.com/problems/palindrome-number/description/"
      ]
    },
    {
      "cell_type": "code",
      "execution_count": 2,
      "metadata": {
        "id": "z-cF2iznK0S2",
        "colab": {
          "base_uri": "https://localhost:8080/"
        },
        "outputId": "08482963-5f0c-428b-af03-d3167b7e065f"
      },
      "outputs": [
        {
          "output_type": "stream",
          "name": "stdout",
          "text": [
            "True\n",
            "False\n",
            "False\n"
          ]
        }
      ],
      "source": [
        "class Solution:\n",
        "    def isPalindrome(self, x):\n",
        "        if x < 0 or (x % 10 == 0 and x != 0):\n",
        "            return False\n",
        "\n",
        "        reversed_half = 0\n",
        "        while x > reversed_half:\n",
        "            reversed_half = reversed_half * 10 + x % 10\n",
        "            x //= 10\n",
        "\n",
        "        return x == reversed_half or x == reversed_half // 10\n",
        "\n",
        "pol = 10101\n",
        "nePol = -101\n",
        "nePol1 = 12\n",
        "\n",
        "sol = Solution()\n",
        "print(sol.isPalindrome(pol))\n",
        "print(sol.isPalindrome(nePol))\n",
        "print(sol.isPalindrome(nePol1))"
      ]
    },
    {
      "cell_type": "markdown",
      "metadata": {
        "id": "TgqO_zgZK0S2"
      },
      "source": [
        "Задача №3. https://leetcode.com/problems/roman-to-integer/description/"
      ]
    },
    {
      "cell_type": "code",
      "execution_count": 3,
      "metadata": {
        "id": "at7f0ujIK0S2",
        "colab": {
          "base_uri": "https://localhost:8080/"
        },
        "outputId": "db3da850-b300-4323-c7f4-9888e011271f"
      },
      "outputs": [
        {
          "output_type": "stream",
          "name": "stdout",
          "text": [
            "9\n"
          ]
        }
      ],
      "source": [
        "class Solution(object):\n",
        "    def romanToInt(self, s):\n",
        "        roman_values = {\n",
        "            'I': 1, 'V': 5, 'X': 10, 'L': 50,\n",
        "            'C': 100, 'D': 500, 'M': 1000\n",
        "        }\n",
        "\n",
        "        total = 0\n",
        "        prev_value = 0\n",
        "\n",
        "        for char in reversed(s):\n",
        "            current_value = roman_values[char]\n",
        "\n",
        "            if current_value < prev_value:\n",
        "                total -= current_value\n",
        "            else:\n",
        "                total += current_value\n",
        "\n",
        "            prev_value = current_value\n",
        "\n",
        "        return total\n",
        "\n",
        "sol = Solution()\n",
        "input = \"IX\"\n",
        "print(sol.romanToInt(input))"
      ]
    },
    {
      "cell_type": "markdown",
      "metadata": {
        "id": "qGy3-InNK0S3"
      },
      "source": [
        "Задача №4. https://leetcode.com/problems/longest-common-prefix/description/"
      ]
    },
    {
      "cell_type": "code",
      "execution_count": 4,
      "metadata": {
        "id": "LASDaf4KK0S3",
        "colab": {
          "base_uri": "https://localhost:8080/"
        },
        "outputId": "2a89b912-dfc8-4ef9-960c-6082cc32771d"
      },
      "outputs": [
        {
          "output_type": "stream",
          "name": "stdout",
          "text": [
            "fl\n"
          ]
        }
      ],
      "source": [
        "class Solution(object):\n",
        "    def longestCommonPrefix(self, strs):\n",
        "\n",
        "        if not strs:\n",
        "            return \"\"\n",
        "\n",
        "        prefix = strs[0]\n",
        "\n",
        "        for s in strs[1:]:\n",
        "\n",
        "            while not s.startswith(prefix):\n",
        "                prefix = prefix[:-1]\n",
        "\n",
        "                if not prefix:\n",
        "                    return \"\"\n",
        "\n",
        "        return prefix\n",
        "\n",
        "sol = Solution()\n",
        "strs = [\"flower\", \"flow\", \"flight\"]\n",
        "print(sol.longestCommonPrefix(strs))"
      ]
    },
    {
      "cell_type": "markdown",
      "metadata": {
        "id": "VVASXbtLK0S3"
      },
      "source": [
        "Задача №5. https://leetcode.com/problems/merge-two-sorted-lists/description/"
      ]
    },
    {
      "cell_type": "code",
      "execution_count": 5,
      "metadata": {
        "id": "Pn2o7fypK0S3"
      },
      "outputs": [],
      "source": [
        "class ListNode(object):\n",
        "    def __init__(self, val=0, next=None):\n",
        "        self.val = val\n",
        "        self.next = next\n",
        "\n",
        "class Solution(object):\n",
        "    def mergeTwoLists(self, list1, list2):\n",
        "        dummy = ListNode()\n",
        "        tail = dummy\n",
        "\n",
        "        while list1 and list2:\n",
        "            if list1.val <= list2.val:\n",
        "                tail.next = list1\n",
        "                list1 = list1.next\n",
        "            else:\n",
        "                tail.next = list2\n",
        "                list2 = list2.next\n",
        "\n",
        "            tail = tail.next\n",
        "\n",
        "        if list1:\n",
        "            tail.next = list1\n",
        "        elif list2:\n",
        "            tail.next = list2\n",
        "\n",
        "        return dummy.next"
      ]
    },
    {
      "cell_type": "markdown",
      "metadata": {
        "id": "kNb6KhpzK0S3"
      },
      "source": [
        "Задача №6. https://leetcode.com/problems/longest-substring-without-repeating-characters/description/"
      ]
    },
    {
      "cell_type": "code",
      "execution_count": 6,
      "metadata": {
        "id": "9DDpxq4JK0S3"
      },
      "outputs": [],
      "source": [
        "class Solution(object):\n",
        "    def lengthOfLongestSubstring(self, s):\n",
        "        seen = set()\n",
        "        left = 0\n",
        "        max_length = 0\n",
        "\n",
        "        for right in range(len(s)):\n",
        "            while s[right] in seen:\n",
        "                seen.remove(s[left])\n",
        "                left += 1\n",
        "            seen.add(s[right])\n",
        "            max_length = max(max_length, right - left + 1)\n",
        "\n",
        "        return max_length"
      ]
    }
  ],
  "metadata": {
    "language_info": {
      "name": "python"
    },
    "colab": {
      "provenance": [],
      "include_colab_link": true
    },
    "kernelspec": {
      "name": "python3",
      "display_name": "Python 3"
    }
  },
  "nbformat": 4,
  "nbformat_minor": 0
}