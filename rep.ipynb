{
  "cells": [
    {
      "cell_type": "markdown",
      "metadata": {
        "id": "view-in-github",
        "colab_type": "text"
      },
      "source": [
        "<a href=\"https://colab.research.google.com/github/suuizee/dap-2024/blob/main/rep.ipynb\" target=\"_parent\"><img src=\"https://colab.research.google.com/assets/colab-badge.svg\" alt=\"Open In Colab\"/></a>"
      ]
    },
    {
      "cell_type": "markdown",
      "metadata": {
        "id": "qQvfD-M40xIt"
      },
      "source": [
        "# Лабораторная работа №3. NumPy"
      ]
    },
    {
      "cell_type": "markdown",
      "metadata": {
        "id": "WqfyDdo1t_3A"
      },
      "source": [
        "## Задание"
      ]
    },
    {
      "cell_type": "markdown",
      "metadata": {
        "id": "Q8FFEA2R08uS"
      },
      "source": [
        "Выполните следующие задания:\n",
        "\n",
        "1. Откройте в файл в Google Colab (используйте собственный форк репозитория).\n",
        "2. Решите задачи.\n",
        "3. Сохраните результат в ваш репозиторий github в директорию ./les03\n",
        "4. Создайте pull request в репозиторий https://github.com/chebotarevsa/dap-2024. Название pull request должно иметь формат \"<Номер лабораторной работы>  <Номер группы> <ФИО>\"\n",
        "5. Сдайте работу в системе \"Пегас\", в отчет укажите ссылку на pull request"
      ]
    },
    {
      "cell_type": "code",
      "execution_count": 11,
      "metadata": {
        "colab": {
          "base_uri": "https://localhost:8080/",
          "height": 35
        },
        "id": "3ftbuMN45IlN",
        "outputId": "c1836a45-a558-4c2f-8849-0f463eaa6317"
      },
      "outputs": [
        {
          "output_type": "execute_result",
          "data": {
            "text/plain": [
              "'1.26.4'"
            ],
            "application/vnd.google.colaboratory.intrinsic+json": {
              "type": "string"
            }
          },
          "metadata": {},
          "execution_count": 11
        }
      ],
      "source": [
        "import numpy as np\n",
        "np.version.version"
      ]
    },
    {
      "cell_type": "markdown",
      "metadata": {
        "id": "6iPL4gTu2ECp"
      },
      "source": [
        "1. Создать массив 10x10 со случайными значениями, найти минимум и максимум (низкая)"
      ]
    },
    {
      "cell_type": "code",
      "execution_count": 1,
      "metadata": {
        "id": "v-AutHvo2T-D",
        "colab": {
          "base_uri": "https://localhost:8080/"
        },
        "outputId": "43dab5e2-cef1-40aa-a9ef-f2d1be2450a3"
      },
      "outputs": [
        {
          "output_type": "stream",
          "name": "stdout",
          "text": [
            "\n",
            "Созданный массив: \n",
            "\n",
            " [[57 28 13 46 57 12 67 37 74 86]\n",
            " [76 13 87  5 50 42 44 17 41 68]\n",
            " [19 58 14 82 26 17 78 26 99  2]\n",
            " [87  3 51 12 89 17 75 14 66 87]\n",
            " [97 31 61 70 59 68  8 27 50  3]\n",
            " [61 78 94 23 91 52 35 15 91 39]\n",
            " [14 13 38 36 55 50 58 62 67 92]\n",
            " [28  2 77 60 13 82 18 77 86 63]\n",
            " [46 24 77 47 61 68 14 60 84 10]\n",
            " [13 25 72 38 33 57 31 36 39 21]]\n",
            "\n",
            "Минимальное значение: 2\n",
            "Максимальное значение: 99\n"
          ]
        }
      ],
      "source": [
        "import numpy as np\n",
        "array = np.random.randint(1, 100, (10, 10))\n",
        "print(\"\\nСозданный массив: \\n\\n\", array)\n",
        "print(\"\\nМинимальное значение:\", array.min())\n",
        "print(\"Максимальное значение:\", array.max())"
      ]
    },
    {
      "cell_type": "markdown",
      "metadata": {
        "id": "cwxKoGik2Xfd"
      },
      "source": [
        "2. Создать 8x8 матрицу и заполнить её единицами и нулями в шахматном порядке"
      ]
    },
    {
      "cell_type": "code",
      "execution_count": 10,
      "metadata": {
        "id": "zACAjKWC2lBy",
        "colab": {
          "base_uri": "https://localhost:8080/"
        },
        "outputId": "69fca728-8cdc-4a27-9ec3-a1f7fb9a9e93"
      },
      "outputs": [
        {
          "output_type": "stream",
          "name": "stdout",
          "text": [
            "Матрица 8х8 в шахматном порядке: \n",
            " [[0. 1. 0. 1. 0. 1. 0. 1.]\n",
            " [1. 0. 1. 0. 1. 0. 1. 0.]\n",
            " [0. 1. 0. 1. 0. 1. 0. 1.]\n",
            " [1. 0. 1. 0. 1. 0. 1. 0.]\n",
            " [0. 1. 0. 1. 0. 1. 0. 1.]\n",
            " [1. 0. 1. 0. 1. 0. 1. 0.]\n",
            " [0. 1. 0. 1. 0. 1. 0. 1.]\n",
            " [1. 0. 1. 0. 1. 0. 1. 0.]]\n"
          ]
        }
      ],
      "source": [
        "import numpy as np\n",
        "matrix = np.zeros((8,8))\n",
        "matrix[::2, 1::2] = 1\n",
        "matrix[1::2, ::2] = 1\n",
        "print(\"Матрица 8х8 в шахматном порядке: \\n\", matrix)"
      ]
    },
    {
      "cell_type": "markdown",
      "metadata": {
        "id": "YvNFm7Io2tSA"
      },
      "source": [
        "3. Дан массив из 11 элементов, поменять знак у элементов, значения которых между 3 и 8"
      ]
    },
    {
      "cell_type": "code",
      "execution_count": 9,
      "metadata": {
        "id": "cczoe3OY27fA",
        "colab": {
          "base_uri": "https://localhost:8080/"
        },
        "outputId": "624d39cb-fa5e-4948-8482-a016bf87dc7f"
      },
      "outputs": [
        {
          "output_type": "stream",
          "name": "stdout",
          "text": [
            "Исходный массив:\n",
            " [ 0  1  2  3  4  5  6  7  8  9 10]\n",
            "\n",
            "Измененный массив:\n",
            " [ 0  1  2  3 -4 -5 -6 -7  8  9 10]\n"
          ]
        }
      ],
      "source": [
        "import numpy as np\n",
        "x = np.arange(11)\n",
        "print(\"Исходный массив:\\n\", x)\n",
        "x[(x > 3) & (x < 8)] *= -1\n",
        "print(\"\\nИзмененный массив:\\n\", x)"
      ]
    },
    {
      "cell_type": "markdown",
      "metadata": {
        "id": "tInYHRPf2-jQ"
      },
      "source": [
        "4. Найти среднее заначение строки матрицы и вычесть его из каждого елемента строки"
      ]
    },
    {
      "cell_type": "code",
      "execution_count": 8,
      "metadata": {
        "id": "Zbv_WG9w3km1",
        "colab": {
          "base_uri": "https://localhost:8080/"
        },
        "outputId": "3273dbff-ba74-4377-8435-216a5c3beb0c"
      },
      "outputs": [
        {
          "output_type": "stream",
          "name": "stdout",
          "text": [
            "Матрица: \n",
            " [[0.06918355 0.51134444 0.43014902 0.05428476 0.62187003 0.52537216\n",
            "  0.75201293 0.4125177  0.89116276 0.88223887]\n",
            " [0.98558987 0.44183375 0.59022005 0.25255584 0.88202873 0.10319399\n",
            "  0.39762853 0.98516608 0.326175   0.41826283]\n",
            " [0.39680835 0.78668751 0.59442083 0.41833609 0.45756823 0.97371392\n",
            "  0.78649234 0.26530443 0.29186427 0.46347221]\n",
            " [0.42283748 0.12661135 0.48239362 0.13801445 0.31618534 0.82317522\n",
            "  0.58082667 0.70677558 0.0103794  0.54226729]\n",
            " [0.45918999 0.76929465 0.39505428 0.98292554 0.22702764 0.27139699\n",
            "  0.66403054 0.33702751 0.08822533 0.28632324]]\n",
            "\n",
            "Среднее значение:\n",
            " [[0.51501362]\n",
            " [0.53826547]\n",
            " [0.54346682]\n",
            " [0.41494664]\n",
            " [0.44804957]]\n",
            "\n",
            "Измененная матрица:\n",
            " [[-0.44583007 -0.00366918 -0.08486461 -0.46072886  0.10685641  0.01035854\n",
            "   0.23699931 -0.10249592  0.37614914  0.88223887]\n",
            " [ 0.4473244  -0.09643171  0.05195458 -0.28570963  0.34376327 -0.43507148\n",
            "  -0.14063694  0.44690061 -0.21209047  0.41826283]\n",
            " [-0.14665847  0.24322069  0.05095401 -0.12513073 -0.08589858  0.4302471\n",
            "   0.24302552 -0.27816239 -0.25160255  0.46347221]\n",
            " [ 0.00789084 -0.28833529  0.06744698 -0.27693219 -0.0987613   0.40822858\n",
            "   0.16588003  0.29182894 -0.40456724  0.54226729]\n",
            " [ 0.01114042  0.32124508 -0.05299529  0.53487597 -0.22102193 -0.17665258\n",
            "   0.21598097 -0.11102206 -0.35982424  0.28632324]]\n"
          ]
        }
      ],
      "source": [
        "import numpy as np\n",
        "z = np.random.rand(5, 10)\n",
        "print(\"Матрица: \\n\", z)\n",
        "means = np.mean(z, axis=1, keepdims=True)\n",
        "z[:, :9] -= means\n",
        "print(\"\\nСреднее значение:\\n\", means)\n",
        "print(\"\\nИзмененная матрица:\\n\", z)"
      ]
    },
    {
      "cell_type": "markdown",
      "metadata": {
        "id": "OStor4mW3lpJ"
      },
      "source": [
        "5. Поменяйте 1 и 2 строки матрицы"
      ]
    },
    {
      "cell_type": "code",
      "execution_count": 7,
      "metadata": {
        "id": "5vfeHqyF3qKd",
        "colab": {
          "base_uri": "https://localhost:8080/"
        },
        "outputId": "77102020-cb6b-4ffc-cdf2-8f3c01be8e67"
      },
      "outputs": [
        {
          "output_type": "stream",
          "name": "stdout",
          "text": [
            "Матрица:\n",
            " [[ 0  1  2  3  4]\n",
            " [ 5  6  7  8  9]\n",
            " [10 11 12 13 14]\n",
            " [15 16 17 18 19]\n",
            " [20 21 22 23 24]]\n",
            "\n",
            "Измененная матрица:\n",
            " [[ 0  1  2  3  4]\n",
            " [10 11 12 13 14]\n",
            " [ 5  6  7  8  9]\n",
            " [15 16 17 18 19]\n",
            " [20 21 22 23 24]]\n"
          ]
        }
      ],
      "source": [
        "import numpy as np\n",
        "z = np.arange(25).reshape(5,5)\n",
        "print(\"Матрица:\\n\", z)\n",
        "z[[1, 2]] = z[[2, 1]]\n",
        "print(\"\\nИзмененная матрица:\\n\", z)"
      ]
    },
    {
      "cell_type": "markdown",
      "metadata": {
        "id": "IPQ9xIIk3qml"
      },
      "source": [
        "6. Дан массив 10x2 подеставлющий собой точки в декартовой системе координат, преобразовать в полярную"
      ]
    },
    {
      "cell_type": "code",
      "execution_count": 6,
      "metadata": {
        "id": "zGHBaX8b30Uv",
        "colab": {
          "base_uri": "https://localhost:8080/"
        },
        "outputId": "8a217d8e-c3ce-4cf4-9352-525b61bb98d1"
      },
      "outputs": [
        {
          "output_type": "stream",
          "name": "stdout",
          "text": [
            "Декартова система координат:\n",
            " [[0.72690354 0.7019418 ]\n",
            " [0.16510831 0.16365664]\n",
            " [0.47292758 0.44710649]\n",
            " [0.33983323 0.92482618]\n",
            " [0.37736802 0.7776974 ]\n",
            " [0.55709729 0.87997892]\n",
            " [0.9384045  0.04557398]\n",
            " [0.69654473 0.89845403]\n",
            " [0.37157113 0.59642492]\n",
            " [0.23796389 0.45235851]]\n",
            "\n",
            "Полярные координаты:\n",
            " [[1.0105004  0.76793007]\n",
            " [0.23247419 0.78098267]\n",
            " [0.65081849 0.75734018]\n",
            " [0.9852868  1.21865563]\n",
            " [0.8644188  1.11902823]\n",
            " [1.04149906 1.00640757]\n",
            " [0.93951051 0.04852726]\n",
            " [1.13683517 0.91131741]\n",
            " [0.70270035 1.01363843]\n",
            " [0.51113114 1.08652535]]\n"
          ]
        }
      ],
      "source": [
        "import numpy as np\n",
        "z = np.random.random((10, 2))\n",
        "print(\"Декартова система координат:\\n\", z)\n",
        "x = z[:, 0]\n",
        "y = z[:, 1]\n",
        "r = np.sqrt(x ** 2 + y ** 2)\n",
        "phi = np.arctan2(y, x)\n",
        "pz = np.column_stack((r, phi))\n",
        "print(\"\\nПолярные координаты:\\n\", pz)"
      ]
    },
    {
      "cell_type": "markdown",
      "metadata": {
        "id": "10gbuTgE4AOH"
      },
      "source": [
        "7. Заменить максимальный элемент массива на ноль"
      ]
    },
    {
      "cell_type": "code",
      "execution_count": 5,
      "metadata": {
        "id": "gqwuO2T_5Aqd",
        "colab": {
          "base_uri": "https://localhost:8080/"
        },
        "outputId": "62427412-7d56-4613-caf3-a5a513db7e83"
      },
      "outputs": [
        {
          "output_type": "stream",
          "name": "stdout",
          "text": [
            "Массив:\n",
            " [0.49463739 0.02823667 0.04487109 0.34076767 0.90665053 0.31055066\n",
            " 0.29170958 0.37364844 0.64364174 0.22395348]\n",
            "\n",
            "Индекс максимального элемента: 4\n",
            "\n",
            "Измененный массив:\n",
            " [0.49463739 0.02823667 0.04487109 0.34076767 0.         0.31055066\n",
            " 0.29170958 0.37364844 0.64364174 0.22395348]\n"
          ]
        }
      ],
      "source": [
        "import numpy as np\n",
        "z = np.random.random(10)\n",
        "print(\"Массив:\\n\", z)\n",
        "max = np.argmax(z)\n",
        "print(\"\\nИндекс максимального элемента:\", max)\n",
        "z[max] = 0\n",
        "print(\"\\nИзмененный массив:\\n\", z)"
      ]
    },
    {
      "cell_type": "markdown",
      "metadata": {
        "id": "88m_eWXM6nZY"
      },
      "source": [
        "8. Дан массив, добавить 1 к каждому элементу с индексом, заданным в другом массиве. Добавление производиться только 1 раз"
      ]
    },
    {
      "cell_type": "code",
      "execution_count": 4,
      "metadata": {
        "id": "-5yj9k126pfh",
        "colab": {
          "base_uri": "https://localhost:8080/"
        },
        "outputId": "415049ed-1186-4a25-ff7a-a5055b4010d5"
      },
      "outputs": [
        {
          "output_type": "stream",
          "name": "stdout",
          "text": [
            "Массив:\n",
            " [1. 1. 1. 1. 1. 1. 1. 1. 1. 1.]\n",
            "\n",
            "Массив индексов:\n",
            " [3 3 1 0 6 9 3 2 2 6 0 3 8 8 2 3 1 2 1 7]\n",
            "\n",
            "Измененный массив:\n",
            " [2. 2. 2. 2. 1. 1. 2. 2. 2. 2.]\n"
          ]
        }
      ],
      "source": [
        "import numpy as np\n",
        "z = np.ones(10)\n",
        "i = np.random.randint(0,len(z),20)\n",
        "print(\"Массив:\\n\", z)\n",
        "print(\"\\nМассив индексов:\\n\", i)\n",
        "unique = np.unique(i)\n",
        "z[unique] += 1\n",
        "print(\"\\nИзмененный массив:\\n\", z)"
      ]
    },
    {
      "cell_type": "markdown",
      "metadata": {
        "id": "0HByAVK77JCG"
      },
      "source": [
        "9. Дан вектор [1, 2, 3, 4, 5], построить новый вектор с тремя нулями между каждым значением"
      ]
    },
    {
      "cell_type": "code",
      "execution_count": 3,
      "metadata": {
        "id": "2AiZt-J47dqq",
        "colab": {
          "base_uri": "https://localhost:8080/"
        },
        "outputId": "a0dedfac-b3bf-49f2-99f8-93c9d2e00aa2"
      },
      "outputs": [
        {
          "output_type": "stream",
          "name": "stdout",
          "text": [
            "Вектор:\n",
            " [1 2 3 4 5]\n",
            "\n",
            "Новый вектор:\n",
            " [1. 0. 0. 0. 2. 0. 0. 0. 3. 0. 0. 0. 4. 0. 0. 0. 5.]\n"
          ]
        }
      ],
      "source": [
        "import numpy as np\n",
        "z = np.array([1,2,3,4,5])\n",
        "print(\"Вектор:\\n\", z)\n",
        "x = np.zeros(len(z) + (len(z) - 1) * 3)\n",
        "x[::4] = z\n",
        "print(\"\\nНовый вектор:\\n\", x)"
      ]
    },
    {
      "cell_type": "markdown",
      "metadata": {
        "id": "i0uK-dO08AKP"
      },
      "source": [
        "10. Найти ближайшее к заданному значению число в заданном массиве"
      ]
    },
    {
      "cell_type": "code",
      "execution_count": 2,
      "metadata": {
        "id": "sE0DlZO_-4Cb",
        "colab": {
          "base_uri": "https://localhost:8080/"
        },
        "outputId": "c2b70112-9b3f-45de-a1cf-16c45261ebb7"
      },
      "outputs": [
        {
          "output_type": "stream",
          "name": "stdout",
          "text": [
            "Массив:\n",
            " [ 0  1  2  3  4  5  6  7  8  9 10 11 12 13 14 15 16 17 18 19 20 21 22 23\n",
            " 24 25 26 27 28 29 30 31 32 33 34 35 36 37 38 39 40 41 42 43 44 45 46 47\n",
            " 48 49 50 51 52 53 54 55 56 57 58 59 60 61 62 63 64 65 66 67 68 69 70 71\n",
            " 72 73 74 75 76 77 78 79 80 81 82 83 84 85 86 87 88 89 90 91 92 93 94 95\n",
            " 96 97 98 99]\n",
            "\n",
            "Заданное значение: 28.528998596310206\n",
            "\n",
            "Ближайшее значение для 28.528998596310206 = 29\n"
          ]
        }
      ],
      "source": [
        "import numpy as np\n",
        "z = np.arange(100)\n",
        "v = np.random.uniform(0,100)\n",
        "print(\"Массив:\\n\", z)\n",
        "print(\"\\nЗаданное значение:\", v)\n",
        "x = np.fabs(z - v).argmin()\n",
        "y = z[x]\n",
        "print(\"\\nБлижайшее значение для\", v, \"=\", y)"
      ]
    }
  ],
  "metadata": {
    "colab": {
      "provenance": [],
      "include_colab_link": true
    },
    "kernelspec": {
      "display_name": "Python 3",
      "name": "python3"
    },
    "language_info": {
      "codemirror_mode": {
        "name": "ipython",
        "version": 3
      },
      "file_extension": ".py",
      "mimetype": "text/x-python",
      "name": "python",
      "nbconvert_exporter": "python",
      "pygments_lexer": "ipython3",
      "version": "3.12.2"
    }
  },
  "nbformat": 4,
  "nbformat_minor": 0
}