{
  "cells": [
    {
      "cell_type": "markdown",
      "metadata": {
        "id": "view-in-github",
        "colab_type": "text"
      },
      "source": [
        "<a href=\"https://colab.research.google.com/github/suuizee/dap-2024/blob/main/rep.ipynb\" target=\"_parent\"><img src=\"https://colab.research.google.com/assets/colab-badge.svg\" alt=\"Open In Colab\"/></a>"
      ]
    },
    {
      "cell_type": "markdown",
      "metadata": {
        "id": "a7NJmQfNQd5Y"
      },
      "source": [
        "# Отчет лабораторной работы 1"
      ]
    },
    {
      "cell_type": "markdown",
      "metadata": {
        "id": "DtG8zq9AQd5Z"
      },
      "source": [
        "## Задание"
      ]
    },
    {
      "cell_type": "markdown",
      "metadata": {
        "id": "vW4Vt7-aQd5a"
      },
      "source": [
        "\n",
        "1. Создайте учетную запись в сервисе GitHub\n",
        "2. Выполните форк репозитория https://github.com/suuizee/dap-2024\n",
        "3. Создайте учетную запись в [Google Colab](https://colab.research.google.com)\n",
        "4. Настройте интеграцию **Google Colab** и *GitHub*\n",
        "5. Создайте в Google Colab отчет о выполненой работе в виде файла rep.ipynb. Используйте Markdown разметку (заголовки, списки, форматированный текст, ссылки)\n",
        "# Заголовок\n",
        "\n",
        "\n",
        "1.   Список\n",
        "2.   форматированный текст\n",
        "3.   текст\n",
        "4.   ссылки\n",
        "\n",
        "\n",
        "\n",
        "6. Сохраните отчет в ваш репозиторий github в директории ./les01\n",
        "7. Создайте pull request в репозиторий https://github.com/chebotarevsa/dap-2024. Название pull request должно иметь формат \"<1>  <12002208> <Крупко М.Д>\"\n",
        "8. Сдайте работу в системе [\"Пегас\"](https://pegas.bsuedu.ru/course/view.php?id=21784), в отчет укажите ссылку на pull request\n"
      ]
    }
  ],
  "metadata": {
    "language_info": {
      "name": "python"
    },
    "colab": {
      "provenance": [],
      "include_colab_link": true
    }
  },
  "nbformat": 4,
  "nbformat_minor": 0
}